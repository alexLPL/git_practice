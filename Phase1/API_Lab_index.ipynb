{
 "cells": [
  {
   "cell_type": "markdown",
   "metadata": {},
   "source": [
    "# APIs - Cumulative Lab\n",
    "\n",
    "\n",
    "## Introduction \n",
    "\n",
    "We've seen how the Yelp API works and how to create basic visualizations using Folium. It's time to put those skills to work in order to create a working map! Taking things a step further, you'll also independently explore how to perform pagination in order to retrieve a full results set from the Yelp API.\n",
    "\n",
    "## Objectives\n",
    "\n",
    "You will be able to: \n",
    "\n",
    "* Practice using functions to organize your code\n",
    "* Use pagination to retrieve all results from an API query\n",
    "* Practice parsing data returned from an API query\n",
    "* Practice interpreting visualizations of a dataset\n",
    "* Create maps using Folium"
   ]
  },
  {
   "cell_type": "markdown",
   "metadata": {},
   "source": [
    "## Your Task: Query Yelp for All Businesses in a Category and Analyze the Results\n",
    "\n",
    "![restaurant counter with pizza](images/restaurant_counter.jpg)\n",
    "\n",
    "Photo by <a href=\"https://unsplash.com/@jordanmadrid?utm_source=unsplash&utm_medium=referral&utm_content=creditCopyText\">Jordan Madrid</a> on <a href=\"/s/photos/pizza-restaurant?utm_source=unsplash&utm_medium=referral&utm_content=creditCopyText\">Unsplash</a>"
   ]
  },
  {
   "cell_type": "markdown",
   "metadata": {},
   "source": [
    "### Overview\n",
    "\n",
    "You've now worked with some API calls, but we have yet to see how to retrieve a more complete dataset in a programmatic manner. In this lab, you will write a query of businesses on Yelp, then use *pagination* to retrieve all possible results for that query. Then you will create a summary of your findings, including a Folium map of the geographic locations of those businesses.\n",
    "\n",
    "### Technical Details\n",
    "\n",
    "Returning to the Yelp API, the [documentation](https://www.yelp.com/developers/documentation/v3/business_search) also provides us details regarding the **API limits**. These often include details about the number of requests a user is allowed to make within a specified time limit and the maximum number of results to be returned. In this case, we are told that any request has a **maximum of 50 results per request** and defaults to 20. Furthermore, any search will be limited to a **total of 1000 results**. To retrieve all 1000 of these results, we would have to page through the results piece by piece, retrieving 50 at a time. Processes such as these are often referred to as pagination.\n",
    "\n",
    "Also, be mindful of the **API** ***rate*** **limits**. You can only make **5000 requests per day** and are also can make requests too fast. Start prototyping small before running a loop that could be faulty. You can also use `time.sleep(n)` to add delays. For more details see https://www.yelp.com/developers/documentation/v3/rate_limiting.\n",
    "\n",
    "In this lab, you will define a search and then paginate over the results to retrieve all of the results. You'll then parse these responses as a list of dictionaries (for further exploration) and create a map using Folium to visualize the results geographically.\n",
    "\n",
    "### Requirements\n",
    "\n",
    "#### 1. Make the Initial Request\n",
    "\n",
    "Start by filling in your API key to make the initial request to the business search API. Investigate the structure of the response you get back and start figuring out how you will extract the relevant information.\n",
    "\n",
    "#### 2. Add Pagination\n",
    "\n",
    "Using loops and functions, collect the maximum number of results for your query from the API.\n",
    "\n",
    "#### 3. Perform Exploratory Analysis\n",
    "\n",
    "Interpret visualizations related to the price range, average rating, and number of reviews for all query results.\n",
    "\n",
    "#### 4. Create a Folium Map\n",
    "\n",
    "Using latitude and longitude data, plot the query results on an interactive map."
   ]
  },
  {
   "cell_type": "markdown",
   "metadata": {},
   "source": [
    "## 1. Make the Initial Request\n",
    "\n",
    "### Querying\n",
    "\n",
    "Start by making an initial request to the Yelp API. Your search must include at least 2 parameters: **term** and **location**. For example, you might search for pizza restaurants in NYC. The term and location is up to you but make the request below.\n",
    "\n",
    "Use the `requests` library ([documentation here](https://requests.readthedocs.io/en/master/user/quickstart/#make-a-request)).\n",
    "\n",
    "You'll also need an API key from Yelp. If you haven't done this already, go to the Yelp [Manage App page](https://www.yelp.com/developers/v3/manage_app) and create a new app (after making an account if you haven't already)."
   ]
  },
  {
   "cell_type": "code",
   "execution_count": 55,
   "metadata": {},
   "outputs": [
    {
     "data": {
      "text/plain": [
       "<Response [200]>"
      ]
     },
     "execution_count": 55,
     "metadata": {},
     "output_type": "execute_result"
    }
   ],
   "source": [
    "# Replace None with appropriate code\n",
    "\n",
    "# Import the requests library\n",
    "import requests\n",
    "\n",
    "# Get this from the \"Manage App\" page. Make sure you set them\n",
    "# back to None before pushing this to GitHub, since otherwise\n",
    "# your credentials will be compromised\n",
    "api_key = \"None\"\n",
    "\n",
    "# These can be whatever you want! But the solution uses \"pizza\"\n",
    "# and \"New York NY\" if you want to compare your work directly\n",
    "term = \"pizza\"\n",
    "location = \"New York NY\"\n",
    "\n",
    "# Set up params for request\n",
    "url = \"https://api.yelp.com/v3/businesses/search\"\n",
    "headers = {\n",
    "    \"Authorization\": \"Bearer {}\".format(api_key)\n",
    "}\n",
    "url_params = {\n",
    "    \"term\": term.replace(\" \", \"+\"),\n",
    "    \"location\": location.replace(\" \", \"+\")\n",
    "}\n",
    "\n",
    "# Make the request using requests.get, passing in\n",
    "# url, headers=headers, and params=url_params\n",
    "response = requests.get(url, headers=headers, params=url_params)\n",
    "\n",
    "# Confirm we got a 200 response\n",
    "response"
   ]
  },
  {
   "cell_type": "code",
   "execution_count": 56,
   "metadata": {},
   "outputs": [
    {
     "data": {
      "text/plain": [
       "dict_keys(['businesses', 'total', 'region'])"
      ]
     },
     "execution_count": 56,
     "metadata": {},
     "output_type": "execute_result"
    }
   ],
   "source": [
    "# Run this cell without changes\n",
    "\n",
    "# Get the response body in JSON format\n",
    "response_json = response.json()\n",
    "# View the keys\n",
    "response_json.keys()"
   ]
  },
  {
   "cell_type": "markdown",
   "metadata": {},
   "source": [
    "### Extracting Data\n",
    "\n",
    "Now, retrieve the value associated with the `'businesses'` key, and inspect its contents."
   ]
  },
  {
   "cell_type": "code",
   "execution_count": 57,
   "metadata": {},
   "outputs": [
    {
     "data": {
      "text/plain": [
       "[{'id': 'zj8Lq1T8KIC5zwFief15jg',\n",
       "  'alias': 'prince-street-pizza-new-york-2',\n",
       "  'name': 'Prince Street Pizza',\n",
       "  'image_url': 'https://s3-media3.fl.yelpcdn.com/bphoto/ZAukOyv530w4KjOHC5YY1w/o.jpg',\n",
       "  'is_closed': False,\n",
       "  'url': 'https://www.yelp.com/biz/prince-street-pizza-new-york-2?adjust_creative=W47v_VGVUcyWUXsWcYPwSw&utm_campaign=yelp_api_v3&utm_medium=api_v3_business_search&utm_source=W47v_VGVUcyWUXsWcYPwSw',\n",
       "  'review_count': 4011,\n",
       "  'categories': [{'alias': 'pizza', 'title': 'Pizza'},\n",
       "   {'alias': 'italian', 'title': 'Italian'}],\n",
       "  'rating': 4.5,\n",
       "  'coordinates': {'latitude': 40.72308755605564,\n",
       "   'longitude': -73.99453001177575},\n",
       "  'transactions': ['pickup', 'delivery'],\n",
       "  'price': '$',\n",
       "  'location': {'address1': '27 Prince St',\n",
       "   'address2': None,\n",
       "   'address3': '',\n",
       "   'city': 'New York',\n",
       "   'zip_code': '10012',\n",
       "   'country': 'US',\n",
       "   'state': 'NY',\n",
       "   'display_address': ['27 Prince St', 'New York, NY 10012']},\n",
       "  'phone': '+12129664100',\n",
       "  'display_phone': '(212) 966-4100',\n",
       "  'distance': 1961.8771417367063},\n",
       " {'id': 'ysqgdbSrezXgVwER2kQWKA',\n",
       "  'alias': 'julianas-brooklyn-3',\n",
       "  'name': \"Juliana's\",\n",
       "  'image_url': 'https://s3-media2.fl.yelpcdn.com/bphoto/clscwgOF9_Ecq-Rwsq7jyQ/o.jpg',\n",
       "  'is_closed': False,\n",
       "  'url': 'https://www.yelp.com/biz/julianas-brooklyn-3?adjust_creative=W47v_VGVUcyWUXsWcYPwSw&utm_campaign=yelp_api_v3&utm_medium=api_v3_business_search&utm_source=W47v_VGVUcyWUXsWcYPwSw',\n",
       "  'review_count': 2353,\n",
       "  'categories': [{'alias': 'pizza', 'title': 'Pizza'}],\n",
       "  'rating': 4.5,\n",
       "  'coordinates': {'latitude': 40.70274718768062,\n",
       "   'longitude': -73.99343490196397},\n",
       "  'transactions': ['delivery'],\n",
       "  'price': '$$',\n",
       "  'location': {'address1': '19 Old Fulton St',\n",
       "   'address2': '',\n",
       "   'address3': '',\n",
       "   'city': 'Brooklyn',\n",
       "   'zip_code': '11201',\n",
       "   'country': 'US',\n",
       "   'state': 'NY',\n",
       "   'display_address': ['19 Old Fulton St', 'Brooklyn, NY 11201']},\n",
       "  'phone': '+17185966700',\n",
       "  'display_phone': '(718) 596-6700',\n",
       "  'distance': 308.56984360837544}]"
      ]
     },
     "execution_count": 57,
     "metadata": {},
     "output_type": "execute_result"
    }
   ],
   "source": [
    "# Replace None with appropriate code\n",
    "\n",
    "# Retrieve the value from response_json\n",
    "businesses = response_json[\"businesses\"]\n",
    "\n",
    "# View the first 2 records\n",
    "businesses[:2]"
   ]
  },
  {
   "cell_type": "markdown",
   "metadata": {},
   "source": [
    "### Preparing Data\n",
    "\n",
    "Write a function `prepare_data` that takes in a list of dictionaries like `businesses` and returns a copy that has been prepared for analysis:\n",
    "\n",
    "1. The `coordinates` key-value pair has been converted into two separate key-value pairs, `latitude` and `longitude`\n",
    "2. All other key-value pairs except for `name`, `review_count`, `rating`, and `price` have been dropped\n",
    "3. All dictionaries missing one of the relevant keys or containing null values have been dropped\n",
    "\n",
    "In other words, the final keys for each dictionary should be `name`, `review_count`, `rating`, `price`, `latitude`, and `longitude`.\n",
    "\n",
    "Complete the function in the cell below:"
   ]
  },
  {
   "cell_type": "code",
   "execution_count": 58,
   "metadata": {},
   "outputs": [
    {
     "data": {
      "text/plain": [
       "[{'name': 'Prince Street Pizza',\n",
       "  'review_count': 4011,\n",
       "  'rating': 4.5,\n",
       "  'price': '$',\n",
       "  'latitude': 40.72308755605564,\n",
       "  'longitude': -73.99453001177575},\n",
       " {'name': \"Juliana's\",\n",
       "  'review_count': 2353,\n",
       "  'rating': 4.5,\n",
       "  'price': '$$',\n",
       "  'latitude': 40.70274718768062,\n",
       "  'longitude': -73.99343490196397},\n",
       " {'name': 'Rubirosa',\n",
       "  'review_count': 2467,\n",
       "  'rating': 4.5,\n",
       "  'price': '$$',\n",
       "  'latitude': 40.722766,\n",
       "  'longitude': -73.996233},\n",
       " {'name': \"Lombardi's Pizza\",\n",
       "  'review_count': 6197,\n",
       "  'rating': 4.0,\n",
       "  'price': '$$',\n",
       "  'latitude': 40.7215934960083,\n",
       "  'longitude': -73.9955956044561},\n",
       " {'name': 'Lucali',\n",
       "  'review_count': 1722,\n",
       "  'rating': 4.0,\n",
       "  'price': '$$',\n",
       "  'latitude': 40.6818,\n",
       "  'longitude': -74.00024}]"
      ]
     },
     "execution_count": 58,
     "metadata": {},
     "output_type": "execute_result"
    }
   ],
   "source": [
    "# Replace None with appropriate code\n",
    "\n",
    "def prepare_data(data_list):\n",
    "    \"\"\"\n",
    "    This function takes in a list of dictionaries and prepares it\n",
    "    for analysis\n",
    "    \"\"\"\n",
    "    \n",
    "    # Make a new list to hold results\n",
    "    results = []\n",
    "    \n",
    "    for business_data in data_list:\n",
    "    \n",
    "        # Make a new dictionary to hold prepared data for this business\n",
    "        prepared_data = {}\n",
    "        \n",
    "        # Extract name, review_count, rating, and price key-value pairs\n",
    "        # from business_data and add to prepared_data\n",
    "        # If a key is not present in business_data, add it to prepared_data\n",
    "        # with an associated value of None\n",
    "        for key in (\"name\", \"review_count\", \"rating\", \"price\"):\n",
    "            prepared_data[key] = business_data.get(key, None)\n",
    "    \n",
    "        # Parse and add latitude and longitude columns\n",
    "        coordinates = business_data[\"coordinates\"]\n",
    "        prepared_data[\"latitude\"] = coordinates[\"latitude\"]\n",
    "        prepared_data[\"longitude\"] = coordinates[\"longitude\"]\n",
    "        \n",
    "        # Add to list if all values are present\n",
    "        if all(prepared_data.values()):\n",
    "            results.append(prepared_data)\n",
    "    \n",
    "    return results\n",
    "    \n",
    "# Test out function\n",
    "prepared_businesses = prepare_data(businesses)\n",
    "prepared_businesses[:5]"
   ]
  },
  {
   "cell_type": "markdown",
   "metadata": {},
   "source": [
    "Check that your function created the correct keys:"
   ]
  },
  {
   "cell_type": "code",
   "execution_count": 59,
   "metadata": {},
   "outputs": [],
   "source": [
    "# Run this cell without changes\n",
    "\n",
    "assert sorted(list(prepared_businesses[0].keys())) == ['latitude', 'longitude', 'name', 'price', 'rating', 'review_count']"
   ]
  },
  {
   "cell_type": "markdown",
   "metadata": {},
   "source": [
    "The following code will differ depending on your query, but we expect there to be 20 businesses in the original list, and potentially fewer in the prepared list (if any of them were missing data):"
   ]
  },
  {
   "cell_type": "code",
   "execution_count": 60,
   "metadata": {},
   "outputs": [
    {
     "name": "stdout",
     "output_type": "stream",
     "text": [
      "Original: 20\n",
      "Prepared: 20\n"
     ]
    }
   ],
   "source": [
    "# Run this cell without changes\n",
    "print(\"Original:\", len(businesses))\n",
    "print(\"Prepared:\", len(prepared_businesses))"
   ]
  },
  {
   "cell_type": "markdown",
   "metadata": {},
   "source": [
    "Great! We will reuse this function once we have retrieved the full dataset."
   ]
  },
  {
   "cell_type": "markdown",
   "metadata": {},
   "source": [
    "## 2. Add Pagination\n",
    "\n",
    "Now that you are able to extract information from one page of the response, let's figure out how to request as many pages as possible.\n",
    "\n",
    "### Determining the Total\n",
    "\n",
    "Depending on the number of total results for your query, you will either retrieve all of the results, or just the first 1000 (if there are more than 1000 total).\n",
    "\n",
    "We can find the total number of results using the `\"total\"` key:"
   ]
  },
  {
   "cell_type": "code",
   "execution_count": 61,
   "metadata": {},
   "outputs": [
    {
     "data": {
      "text/plain": [
       "240"
      ]
     },
     "execution_count": 61,
     "metadata": {},
     "output_type": "execute_result"
    }
   ],
   "source": [
    "# Run this cell without changes\n",
    "response_json[\"total\"]"
   ]
  },
  {
   "cell_type": "markdown",
   "metadata": {},
   "source": [
    "(This is specific to the implementation of the Yelp API. Some APIs will just tell you that there are more pages, or will tell you the number of pages total, rather than the total number of results. If you're not sure, always check the documentation.)\n",
    "\n",
    "In the cell below, assign the variable `total` to either the value shown above (if it is less than 1000), or 1000."
   ]
  },
  {
   "cell_type": "code",
   "execution_count": 62,
   "metadata": {},
   "outputs": [],
   "source": [
    "# Replace None with appropriate code\n",
    "total = 240"
   ]
  },
  {
   "cell_type": "markdown",
   "metadata": {},
   "source": [
    "### Calculating the Offsets\n",
    "\n",
    "The documentation states in the parameters section:\n",
    "\n",
    "> **Name**: `limit`, **Type:** int, **Description:** Optional. Number of business results to return. By default, it will return 20. Maximum is 50.\n",
    "\n",
    "> **Name**: `offset`, **Type:** int, **Description:** Optional. Offset the list of returned business results by this amount.\n",
    "\n",
    "So, to get the most results with the fewest API calls we want to set a limit of 50 every time. If, say, we wanted to get 210 total results, that would mean:\n",
    "\n",
    "1. Offset of `0` (first 50 records)\n",
    "2. Offset of `50` (second 50 records)\n",
    "3. Offset of `100` (third 50 records)\n",
    "4. Offset of `150` (fourth 50 records)\n",
    "5. Offset of `200` (final 10 records)\n",
    "\n",
    "In the cell below, create a function `get_offsets` that takes in a total and returns a list of offsets for that total. You can assume that there is a limit of 50 every time.\n",
    "\n",
    "*Hint: you can use `range` ([documentation here](https://docs.python.org/3.3/library/stdtypes.html?highlight=range#range)) to do this in one line of code. Just make the returned result is a list.*"
   ]
  },
  {
   "cell_type": "code",
   "execution_count": 63,
   "metadata": {},
   "outputs": [],
   "source": [
    "# Replace None with appropriate code\n",
    "def get_offsets(total):\n",
    "    \"\"\"\n",
    "    Get a list of offsets needed to get all pages\n",
    "    of data up until the total\n",
    "    \"\"\"\n",
    "    return list(range(0, total, 50))"
   ]
  },
  {
   "cell_type": "markdown",
   "metadata": {},
   "source": [
    "Check that your function works below:"
   ]
  },
  {
   "cell_type": "code",
   "execution_count": 64,
   "metadata": {},
   "outputs": [],
   "source": [
    "# Run this cell without changes\n",
    "\n",
    "assert get_offsets(200) == [0, 50, 100, 150]\n",
    "assert get_offsets(210) == [0, 50, 100, 150, 200]"
   ]
  },
  {
   "cell_type": "markdown",
   "metadata": {},
   "source": [
    "### Putting It All Together\n",
    "\n",
    "Recall that the following variable has already been declared for you:"
   ]
  },
  {
   "cell_type": "code",
   "execution_count": 65,
   "metadata": {},
   "outputs": [
    {
     "data": {
      "text/plain": [
       "{'term': 'pizza', 'location': 'New+York+NY'}"
      ]
     },
     "execution_count": 65,
     "metadata": {},
     "output_type": "execute_result"
    }
   ],
   "source": [
    "# Run this cell without changes\n",
    "url_params"
   ]
  },
  {
   "cell_type": "markdown",
   "metadata": {},
   "source": [
    "We'll go ahead and also specify that the limit should be 50 every time:"
   ]
  },
  {
   "cell_type": "code",
   "execution_count": 66,
   "metadata": {},
   "outputs": [],
   "source": [
    "# Run this cell without changes\n",
    "url_params[\"limit\"] = 50"
   ]
  },
  {
   "cell_type": "markdown",
   "metadata": {},
   "source": [
    "In order to modify the offset, you'll need to add it to `url_params` with the key `\"offset\"` and whatever value is needed.\n",
    "\n",
    "In the cell below, write code that:\n",
    "\n",
    "* Creates an empty list for the full prepared dataset\n",
    "* Loops over all of the offsets from `get_offsets` and makes an API call each time with the specified offset\n",
    "* Calls `prepare_data` to get a cleaned version of the result of each API call\n",
    "* Extends the full prepared dataset list with each query's prepared dataset"
   ]
  },
  {
   "cell_type": "code",
   "execution_count": 67,
   "metadata": {},
   "outputs": [
    {
     "data": {
      "text/plain": [
       "100"
      ]
     },
     "execution_count": 67,
     "metadata": {},
     "output_type": "execute_result"
    }
   ],
   "source": [
    "# Replace None with appropriate code\n",
    "\n",
    "# Create an empty list for the full prepared dataset\n",
    "full_dataset = []\n",
    "\n",
    "for offset in get_offsets(total):\n",
    "    # Add or update the \"offset\" key-value pair in url_params\n",
    "    url_params[\"offset\"] = offset\n",
    "    \n",
    "    # Make the query and get the response\n",
    "    response = requests.get(url, headers=headers, params=url_params)\n",
    "    \n",
    "    # Get the response body in JSON format\n",
    "    #response_json = response.json()\n",
    "    \n",
    "    # Get the list of businesses from the response_json\n",
    "    businesses = response_json[\"businesses\"]\n",
    "    \n",
    "    # Call the prepare_data function to get a list of processed data\n",
    "    prepared_businesses = prepare_data(businesses)\n",
    "    \n",
    "    # Extend full_dataset with this list (don't append, or you'll get\n",
    "    # a list of lists instead of a flat list)\n",
    "    full_dataset.extend(prepared_businesses)\n",
    "\n",
    "# Check the length of the full dataset. It will be up to `total`,\n",
    "# potentially less if there were missing values\n",
    "len(full_dataset)"
   ]
  },
  {
   "cell_type": "code",
   "execution_count": 68,
   "metadata": {},
   "outputs": [
    {
     "data": {
      "text/plain": [
       "{'businesses': [{'id': 'zj8Lq1T8KIC5zwFief15jg',\n",
       "   'alias': 'prince-street-pizza-new-york-2',\n",
       "   'name': 'Prince Street Pizza',\n",
       "   'image_url': 'https://s3-media3.fl.yelpcdn.com/bphoto/ZAukOyv530w4KjOHC5YY1w/o.jpg',\n",
       "   'is_closed': False,\n",
       "   'url': 'https://www.yelp.com/biz/prince-street-pizza-new-york-2?adjust_creative=W47v_VGVUcyWUXsWcYPwSw&utm_campaign=yelp_api_v3&utm_medium=api_v3_business_search&utm_source=W47v_VGVUcyWUXsWcYPwSw',\n",
       "   'review_count': 4011,\n",
       "   'categories': [{'alias': 'pizza', 'title': 'Pizza'},\n",
       "    {'alias': 'italian', 'title': 'Italian'}],\n",
       "   'rating': 4.5,\n",
       "   'coordinates': {'latitude': 40.72308755605564,\n",
       "    'longitude': -73.99453001177575},\n",
       "   'transactions': ['pickup', 'delivery'],\n",
       "   'price': '$',\n",
       "   'location': {'address1': '27 Prince St',\n",
       "    'address2': None,\n",
       "    'address3': '',\n",
       "    'city': 'New York',\n",
       "    'zip_code': '10012',\n",
       "    'country': 'US',\n",
       "    'state': 'NY',\n",
       "    'display_address': ['27 Prince St', 'New York, NY 10012']},\n",
       "   'phone': '+12129664100',\n",
       "   'display_phone': '(212) 966-4100',\n",
       "   'distance': 1961.8771417367063},\n",
       "  {'id': 'ysqgdbSrezXgVwER2kQWKA',\n",
       "   'alias': 'julianas-brooklyn-3',\n",
       "   'name': \"Juliana's\",\n",
       "   'image_url': 'https://s3-media2.fl.yelpcdn.com/bphoto/clscwgOF9_Ecq-Rwsq7jyQ/o.jpg',\n",
       "   'is_closed': False,\n",
       "   'url': 'https://www.yelp.com/biz/julianas-brooklyn-3?adjust_creative=W47v_VGVUcyWUXsWcYPwSw&utm_campaign=yelp_api_v3&utm_medium=api_v3_business_search&utm_source=W47v_VGVUcyWUXsWcYPwSw',\n",
       "   'review_count': 2353,\n",
       "   'categories': [{'alias': 'pizza', 'title': 'Pizza'}],\n",
       "   'rating': 4.5,\n",
       "   'coordinates': {'latitude': 40.70274718768062,\n",
       "    'longitude': -73.99343490196397},\n",
       "   'transactions': ['delivery'],\n",
       "   'price': '$$',\n",
       "   'location': {'address1': '19 Old Fulton St',\n",
       "    'address2': '',\n",
       "    'address3': '',\n",
       "    'city': 'Brooklyn',\n",
       "    'zip_code': '11201',\n",
       "    'country': 'US',\n",
       "    'state': 'NY',\n",
       "    'display_address': ['19 Old Fulton St', 'Brooklyn, NY 11201']},\n",
       "   'phone': '+17185966700',\n",
       "   'display_phone': '(718) 596-6700',\n",
       "   'distance': 308.56984360837544},\n",
       "  {'id': 'WG639VkTjmK5dzydd1BBJA',\n",
       "   'alias': 'rubirosa-new-york-2',\n",
       "   'name': 'Rubirosa',\n",
       "   'image_url': 'https://s3-media4.fl.yelpcdn.com/bphoto/LuSzR8cpVQRofXOT_bMi1A/o.jpg',\n",
       "   'is_closed': False,\n",
       "   'url': 'https://www.yelp.com/biz/rubirosa-new-york-2?adjust_creative=W47v_VGVUcyWUXsWcYPwSw&utm_campaign=yelp_api_v3&utm_medium=api_v3_business_search&utm_source=W47v_VGVUcyWUXsWcYPwSw',\n",
       "   'review_count': 2467,\n",
       "   'categories': [{'alias': 'italian', 'title': 'Italian'},\n",
       "    {'alias': 'pizza', 'title': 'Pizza'}],\n",
       "   'rating': 4.5,\n",
       "   'coordinates': {'latitude': 40.722766, 'longitude': -73.996233},\n",
       "   'transactions': ['pickup', 'delivery'],\n",
       "   'price': '$$',\n",
       "   'location': {'address1': '235 Mulberry St',\n",
       "    'address2': '',\n",
       "    'address3': '',\n",
       "    'city': 'New York',\n",
       "    'zip_code': '10012',\n",
       "    'country': 'US',\n",
       "    'state': 'NY',\n",
       "    'display_address': ['235 Mulberry St', 'New York, NY 10012']},\n",
       "   'phone': '+12129650500',\n",
       "   'display_phone': '(212) 965-0500',\n",
       "   'distance': 1932.9467701334759},\n",
       "  {'id': 'WIhm0W9197f_rRtDziq5qQ',\n",
       "   'alias': 'lombardis-pizza-new-york-4',\n",
       "   'name': \"Lombardi's Pizza\",\n",
       "   'image_url': 'https://s3-media1.fl.yelpcdn.com/bphoto/UZ6V_hobp1KpYDPOHNoCKw/o.jpg',\n",
       "   'is_closed': False,\n",
       "   'url': 'https://www.yelp.com/biz/lombardis-pizza-new-york-4?adjust_creative=W47v_VGVUcyWUXsWcYPwSw&utm_campaign=yelp_api_v3&utm_medium=api_v3_business_search&utm_source=W47v_VGVUcyWUXsWcYPwSw',\n",
       "   'review_count': 6197,\n",
       "   'categories': [{'alias': 'pizza', 'title': 'Pizza'}],\n",
       "   'rating': 4.0,\n",
       "   'coordinates': {'latitude': 40.7215934960083,\n",
       "    'longitude': -73.9955956044561},\n",
       "   'transactions': ['pickup', 'delivery'],\n",
       "   'price': '$$',\n",
       "   'location': {'address1': '32 Spring St',\n",
       "    'address2': '',\n",
       "    'address3': '',\n",
       "    'city': 'New York',\n",
       "    'zip_code': '10012',\n",
       "    'country': 'US',\n",
       "    'state': 'NY',\n",
       "    'display_address': ['32 Spring St', 'New York, NY 10012']},\n",
       "   'phone': '+12129417994',\n",
       "   'display_phone': '(212) 941-7994',\n",
       "   'distance': 1798.9959778083735},\n",
       "  {'id': 'Q9F2ocrmYuGt1yn3M7MOBw',\n",
       "   'alias': 'lucali-brooklyn-3',\n",
       "   'name': 'Lucali',\n",
       "   'image_url': 'https://s3-media3.fl.yelpcdn.com/bphoto/Yl_eZ_DW_iaumnU-pfSoaw/o.jpg',\n",
       "   'is_closed': False,\n",
       "   'url': 'https://www.yelp.com/biz/lucali-brooklyn-3?adjust_creative=W47v_VGVUcyWUXsWcYPwSw&utm_campaign=yelp_api_v3&utm_medium=api_v3_business_search&utm_source=W47v_VGVUcyWUXsWcYPwSw',\n",
       "   'review_count': 1722,\n",
       "   'categories': [{'alias': 'pizza', 'title': 'Pizza'}],\n",
       "   'rating': 4.0,\n",
       "   'coordinates': {'latitude': 40.6818, 'longitude': -74.00024},\n",
       "   'transactions': ['delivery'],\n",
       "   'price': '$$',\n",
       "   'location': {'address1': '575 Henry St',\n",
       "    'address2': None,\n",
       "    'address3': '',\n",
       "    'city': 'Brooklyn',\n",
       "    'zip_code': '11231',\n",
       "    'country': 'US',\n",
       "    'state': 'NY',\n",
       "    'display_address': ['575 Henry St', 'Brooklyn, NY 11231']},\n",
       "   'phone': '+17188584086',\n",
       "   'display_phone': '(718) 858-4086',\n",
       "   'distance': 2674.849860473569},\n",
       "  {'id': 'FhXjAc6nKLf414KxYujUHw',\n",
       "   'alias': 'robertas-brooklyn-2',\n",
       "   'name': \"Roberta's\",\n",
       "   'image_url': 'https://s3-media4.fl.yelpcdn.com/bphoto/8fY9fA5TtCF0ebdTNph9mQ/o.jpg',\n",
       "   'is_closed': False,\n",
       "   'url': 'https://www.yelp.com/biz/robertas-brooklyn-2?adjust_creative=W47v_VGVUcyWUXsWcYPwSw&utm_campaign=yelp_api_v3&utm_medium=api_v3_business_search&utm_source=W47v_VGVUcyWUXsWcYPwSw',\n",
       "   'review_count': 3014,\n",
       "   'categories': [{'alias': 'pizza', 'title': 'Pizza'},\n",
       "    {'alias': 'italian', 'title': 'Italian'}],\n",
       "   'rating': 4.0,\n",
       "   'coordinates': {'latitude': 40.70493, 'longitude': -73.93399},\n",
       "   'transactions': ['delivery', 'pickup'],\n",
       "   'price': '$$',\n",
       "   'location': {'address1': '261 Moore St',\n",
       "    'address2': '',\n",
       "    'address3': '',\n",
       "    'city': 'Brooklyn',\n",
       "    'zip_code': '11206',\n",
       "    'country': 'US',\n",
       "    'state': 'NY',\n",
       "    'display_address': ['261 Moore St', 'Brooklyn, NY 11206']},\n",
       "   'phone': '+17184171118',\n",
       "   'display_phone': '(718) 417-1118',\n",
       "   'distance': 5083.5233118395545},\n",
       "  {'id': 'uc5qQMzs96rzjK27epDCug',\n",
       "   'alias': 'joes-pizza-new-york-4',\n",
       "   'name': \"Joe's Pizza\",\n",
       "   'image_url': 'https://s3-media4.fl.yelpcdn.com/bphoto/1TvTRG9HFmEGaTSBMcUBhA/o.jpg',\n",
       "   'is_closed': False,\n",
       "   'url': 'https://www.yelp.com/biz/joes-pizza-new-york-4?adjust_creative=W47v_VGVUcyWUXsWcYPwSw&utm_campaign=yelp_api_v3&utm_medium=api_v3_business_search&utm_source=W47v_VGVUcyWUXsWcYPwSw',\n",
       "   'review_count': 2688,\n",
       "   'categories': [{'alias': 'pizza', 'title': 'Pizza'}],\n",
       "   'rating': 4.0,\n",
       "   'coordinates': {'latitude': 40.73060076, 'longitude': -74.00215997},\n",
       "   'transactions': ['delivery'],\n",
       "   'price': '$',\n",
       "   'location': {'address1': '7 Carmine St',\n",
       "    'address2': '',\n",
       "    'address3': '',\n",
       "    'city': 'New York',\n",
       "    'zip_code': '10014',\n",
       "    'country': 'US',\n",
       "    'state': 'NY',\n",
       "    'display_address': ['7 Carmine St', 'New York, NY 10014']},\n",
       "   'phone': '+12123661182',\n",
       "   'display_phone': '(212) 366-1182',\n",
       "   'distance': 2874.702513677348},\n",
       "  {'id': '2ggi1luerd3Mf_C82JvCYg',\n",
       "   'alias': 'grimaldis-pizzeria-brooklyn-4',\n",
       "   'name': \"Grimaldi's Pizzeria\",\n",
       "   'image_url': 'https://s3-media2.fl.yelpcdn.com/bphoto/KnocNRTl04953MdDXH9y7Q/o.jpg',\n",
       "   'is_closed': False,\n",
       "   'url': 'https://www.yelp.com/biz/grimaldis-pizzeria-brooklyn-4?adjust_creative=W47v_VGVUcyWUXsWcYPwSw&utm_campaign=yelp_api_v3&utm_medium=api_v3_business_search&utm_source=W47v_VGVUcyWUXsWcYPwSw',\n",
       "   'review_count': 4693,\n",
       "   'categories': [{'alias': 'pizza', 'title': 'Pizza'}],\n",
       "   'rating': 3.5,\n",
       "   'coordinates': {'latitude': 40.702583, 'longitude': -73.9932413},\n",
       "   'transactions': ['delivery', 'pickup'],\n",
       "   'price': '$$',\n",
       "   'location': {'address1': '1 Front St',\n",
       "    'address2': '',\n",
       "    'address3': '',\n",
       "    'city': 'Brooklyn',\n",
       "    'zip_code': '11201',\n",
       "    'country': 'US',\n",
       "    'state': 'NY',\n",
       "    'display_address': ['1 Front St', 'Brooklyn, NY 11201']},\n",
       "   'phone': '+17188584300',\n",
       "   'display_phone': '(718) 858-4300',\n",
       "   'distance': 330.34746206527655},\n",
       "  {'id': '0UdC0VYX6aAvLiOcpR4MVQ',\n",
       "   'alias': 'joes-pizza-new-york-7',\n",
       "   'name': \"Joe's Pizza\",\n",
       "   'image_url': 'https://s3-media3.fl.yelpcdn.com/bphoto/BTCcvlqxlp2MOeK_rHa8lQ/o.jpg',\n",
       "   'is_closed': False,\n",
       "   'url': 'https://www.yelp.com/biz/joes-pizza-new-york-7?adjust_creative=W47v_VGVUcyWUXsWcYPwSw&utm_campaign=yelp_api_v3&utm_medium=api_v3_business_search&utm_source=W47v_VGVUcyWUXsWcYPwSw',\n",
       "   'review_count': 950,\n",
       "   'categories': [{'alias': 'pizza', 'title': 'Pizza'}],\n",
       "   'rating': 4.0,\n",
       "   'coordinates': {'latitude': 40.73331, 'longitude': -73.98763},\n",
       "   'transactions': ['pickup', 'delivery'],\n",
       "   'price': '$',\n",
       "   'location': {'address1': '150 E 14th St',\n",
       "    'address2': '',\n",
       "    'address3': '',\n",
       "    'city': 'New York',\n",
       "    'zip_code': '10003',\n",
       "    'country': 'US',\n",
       "    'state': 'NY',\n",
       "    'display_address': ['150 E 14th St', 'New York, NY 10003']},\n",
       "   'phone': '+12123889474',\n",
       "   'display_phone': '(212) 388-9474',\n",
       "   'distance': 3147.1329123382493},\n",
       "  {'id': 'C8j0q4Ma_S5hBGuAI-aaww',\n",
       "   'alias': 'di-fara-pizza-brooklyn',\n",
       "   'name': 'Di Fara Pizza',\n",
       "   'image_url': 'https://s3-media3.fl.yelpcdn.com/bphoto/4dfe9qpe20P-vi3qFjWd4Q/o.jpg',\n",
       "   'is_closed': False,\n",
       "   'url': 'https://www.yelp.com/biz/di-fara-pizza-brooklyn?adjust_creative=W47v_VGVUcyWUXsWcYPwSw&utm_campaign=yelp_api_v3&utm_medium=api_v3_business_search&utm_source=W47v_VGVUcyWUXsWcYPwSw',\n",
       "   'review_count': 3660,\n",
       "   'categories': [{'alias': 'pizza', 'title': 'Pizza'}],\n",
       "   'rating': 4.0,\n",
       "   'coordinates': {'latitude': 40.625093, 'longitude': -73.961531},\n",
       "   'transactions': ['pickup', 'delivery'],\n",
       "   'price': '$$',\n",
       "   'location': {'address1': '1424 Ave J',\n",
       "    'address2': '',\n",
       "    'address3': '',\n",
       "    'city': 'Brooklyn',\n",
       "    'zip_code': '11230',\n",
       "    'country': 'US',\n",
       "    'state': 'NY',\n",
       "    'display_address': ['1424 Ave J', 'Brooklyn, NY 11230']},\n",
       "   'phone': '+17182581367',\n",
       "   'display_phone': '(718) 258-1367',\n",
       "   'distance': 9352.269072867253},\n",
       "  {'id': 'v1DHGRNCH9247WLYoaoA9A',\n",
       "   'alias': 'l-industrie-pizzeria-brooklyn',\n",
       "   'name': \"L'industrie Pizzeria\",\n",
       "   'image_url': 'https://s3-media2.fl.yelpcdn.com/bphoto/_tHRJGBaVtQD4L-hFK9jjw/o.jpg',\n",
       "   'is_closed': False,\n",
       "   'url': 'https://www.yelp.com/biz/l-industrie-pizzeria-brooklyn?adjust_creative=W47v_VGVUcyWUXsWcYPwSw&utm_campaign=yelp_api_v3&utm_medium=api_v3_business_search&utm_source=W47v_VGVUcyWUXsWcYPwSw',\n",
       "   'review_count': 606,\n",
       "   'categories': [{'alias': 'pizza', 'title': 'Pizza'}],\n",
       "   'rating': 4.5,\n",
       "   'coordinates': {'latitude': 40.71162, 'longitude': -73.95783},\n",
       "   'transactions': ['delivery'],\n",
       "   'price': '$',\n",
       "   'location': {'address1': '254 S 2nd St',\n",
       "    'address2': '',\n",
       "    'address3': '',\n",
       "    'city': 'Brooklyn',\n",
       "    'zip_code': '11211',\n",
       "    'country': 'US',\n",
       "    'state': 'NY',\n",
       "    'display_address': ['254 S 2nd St', 'Brooklyn, NY 11211']},\n",
       "   'phone': '+17185990002',\n",
       "   'display_phone': '(718) 599-0002',\n",
       "   'distance': 3145.016041338447},\n",
       "  {'id': 'LF1QAuvpfX7KGQlg2zMg6Q',\n",
       "   'alias': 'johns-of-bleecker-street-new-york-2',\n",
       "   'name': \"John's of Bleecker Street\",\n",
       "   'image_url': 'https://s3-media2.fl.yelpcdn.com/bphoto/9_3Eim0f4ttMZFxdNp-lVA/o.jpg',\n",
       "   'is_closed': False,\n",
       "   'url': 'https://www.yelp.com/biz/johns-of-bleecker-street-new-york-2?adjust_creative=W47v_VGVUcyWUXsWcYPwSw&utm_campaign=yelp_api_v3&utm_medium=api_v3_business_search&utm_source=W47v_VGVUcyWUXsWcYPwSw',\n",
       "   'review_count': 2167,\n",
       "   'categories': [{'alias': 'pizza', 'title': 'Pizza'}],\n",
       "   'rating': 4.0,\n",
       "   'coordinates': {'latitude': 40.73158, 'longitude': -74.00332},\n",
       "   'transactions': ['pickup', 'delivery'],\n",
       "   'price': '$$',\n",
       "   'location': {'address1': '278 Bleecker St',\n",
       "    'address2': '',\n",
       "    'address3': '',\n",
       "    'city': 'New York',\n",
       "    'zip_code': '10014',\n",
       "    'country': 'US',\n",
       "    'state': 'NY',\n",
       "    'display_address': ['278 Bleecker St', 'New York, NY 10014']},\n",
       "   'phone': '+12122431680',\n",
       "   'display_phone': '(212) 243-1680',\n",
       "   'distance': 3010.899021476809},\n",
       "  {'id': 'hGksyTiHBBdrhbiVjXzWVw',\n",
       "   'alias': 'scarrs-pizza-new-york',\n",
       "   'name': \"Scarr's Pizza\",\n",
       "   'image_url': 'https://s3-media3.fl.yelpcdn.com/bphoto/xonxGJK91P_Ow3iY7olsxA/o.jpg',\n",
       "   'is_closed': False,\n",
       "   'url': 'https://www.yelp.com/biz/scarrs-pizza-new-york?adjust_creative=W47v_VGVUcyWUXsWcYPwSw&utm_campaign=yelp_api_v3&utm_medium=api_v3_business_search&utm_source=W47v_VGVUcyWUXsWcYPwSw',\n",
       "   'review_count': 510,\n",
       "   'categories': [{'alias': 'pizza', 'title': 'Pizza'}],\n",
       "   'rating': 4.0,\n",
       "   'coordinates': {'latitude': 40.71534, 'longitude': -73.9914},\n",
       "   'transactions': ['pickup', 'delivery'],\n",
       "   'price': '$',\n",
       "   'location': {'address1': '22 Orchard St',\n",
       "    'address2': '',\n",
       "    'address3': '',\n",
       "    'city': 'New York',\n",
       "    'zip_code': '10002',\n",
       "    'country': 'US',\n",
       "    'state': 'NY',\n",
       "    'display_address': ['22 Orchard St', 'New York, NY 10002']},\n",
       "   'phone': '+12123343481',\n",
       "   'display_phone': '(212) 334-3481',\n",
       "   'distance': 1125.7843300426755},\n",
       "  {'id': 'QfCbV1_VIjfCkowro_WGNA',\n",
       "   'alias': 'luigis-pizza-brooklyn',\n",
       "   'name': \"Luigi's Pizza\",\n",
       "   'image_url': 'https://s3-media3.fl.yelpcdn.com/bphoto/WsGK3FQqwN79wtbczYR3ZQ/o.jpg',\n",
       "   'is_closed': False,\n",
       "   'url': 'https://www.yelp.com/biz/luigis-pizza-brooklyn?adjust_creative=W47v_VGVUcyWUXsWcYPwSw&utm_campaign=yelp_api_v3&utm_medium=api_v3_business_search&utm_source=W47v_VGVUcyWUXsWcYPwSw',\n",
       "   'review_count': 364,\n",
       "   'categories': [{'alias': 'pizza', 'title': 'Pizza'}],\n",
       "   'rating': 4.5,\n",
       "   'coordinates': {'latitude': 40.66163, 'longitude': -73.99334},\n",
       "   'transactions': ['pickup', 'delivery'],\n",
       "   'price': '$',\n",
       "   'location': {'address1': '686 5th Ave',\n",
       "    'address2': '',\n",
       "    'address3': '',\n",
       "    'city': 'Brooklyn',\n",
       "    'zip_code': '11215',\n",
       "    'country': 'US',\n",
       "    'state': 'NY',\n",
       "    'display_address': ['686 5th Ave', 'Brooklyn, NY 11215']},\n",
       "   'phone': '+17184993857',\n",
       "   'display_phone': '(718) 499-3857',\n",
       "   'distance': 4871.041578229889},\n",
       "  {'id': 'qoBcWhGwlcUsKIQ2nB22vA',\n",
       "   'alias': 'lombardos-of-bay-ridge-brooklyn-2',\n",
       "   'name': \"Lombardo's of Bay Ridge\",\n",
       "   'image_url': 'https://s3-media2.fl.yelpcdn.com/bphoto/dApR-oBFGa2kQIpmEeasfA/o.jpg',\n",
       "   'is_closed': False,\n",
       "   'url': 'https://www.yelp.com/biz/lombardos-of-bay-ridge-brooklyn-2?adjust_creative=W47v_VGVUcyWUXsWcYPwSw&utm_campaign=yelp_api_v3&utm_medium=api_v3_business_search&utm_source=W47v_VGVUcyWUXsWcYPwSw',\n",
       "   'review_count': 156,\n",
       "   'categories': [{'alias': 'pizza', 'title': 'Pizza'}],\n",
       "   'rating': 5.0,\n",
       "   'coordinates': {'latitude': 40.634741, 'longitude': -74.0284259},\n",
       "   'transactions': ['pickup'],\n",
       "   'price': '$$',\n",
       "   'location': {'address1': '279 71st St',\n",
       "    'address2': None,\n",
       "    'address3': '',\n",
       "    'city': 'Brooklyn',\n",
       "    'zip_code': '11209',\n",
       "    'country': 'US',\n",
       "    'state': 'NY',\n",
       "    'display_address': ['279 71st St', 'Brooklyn, NY 11209']},\n",
       "   'phone': '+17182387100',\n",
       "   'display_phone': '(718) 238-7100',\n",
       "   'distance': 8367.095256061873},\n",
       "  {'id': 'oJ_XSPZFpvIt6rvheSQl7A',\n",
       "   'alias': 'bleecker-street-pizza-new-york',\n",
       "   'name': 'Bleecker Street Pizza',\n",
       "   'image_url': 'https://s3-media4.fl.yelpcdn.com/bphoto/Kyi2tP43S_a6s-zXD38NUQ/o.jpg',\n",
       "   'is_closed': False,\n",
       "   'url': 'https://www.yelp.com/biz/bleecker-street-pizza-new-york?adjust_creative=W47v_VGVUcyWUXsWcYPwSw&utm_campaign=yelp_api_v3&utm_medium=api_v3_business_search&utm_source=W47v_VGVUcyWUXsWcYPwSw',\n",
       "   'review_count': 2474,\n",
       "   'categories': [{'alias': 'pizza', 'title': 'Pizza'},\n",
       "    {'alias': 'italian', 'title': 'Italian'}],\n",
       "   'rating': 4.0,\n",
       "   'coordinates': {'latitude': 40.7320627016512,\n",
       "    'longitude': -74.0036552270137},\n",
       "   'transactions': ['delivery', 'pickup'],\n",
       "   'price': '$',\n",
       "   'location': {'address1': '69 7th Ave S',\n",
       "    'address2': None,\n",
       "    'address3': '',\n",
       "    'city': 'New York',\n",
       "    'zip_code': '10014',\n",
       "    'country': 'US',\n",
       "    'state': 'NY',\n",
       "    'display_address': ['69 7th Ave S', 'New York, NY 10014']},\n",
       "   'phone': '+12129244466',\n",
       "   'display_phone': '(212) 924-4466',\n",
       "   'distance': 3073.5742196084057},\n",
       "  {'id': 'pGr5QuQU7Ur5GHLvXbT8bw',\n",
       "   'alias': 'paulie-gees-brooklyn',\n",
       "   'name': \"Paulie Gee's\",\n",
       "   'image_url': 'https://s3-media2.fl.yelpcdn.com/bphoto/1j39J4NABK_RBtO-l90QNg/o.jpg',\n",
       "   'is_closed': False,\n",
       "   'url': 'https://www.yelp.com/biz/paulie-gees-brooklyn?adjust_creative=W47v_VGVUcyWUXsWcYPwSw&utm_campaign=yelp_api_v3&utm_medium=api_v3_business_search&utm_source=W47v_VGVUcyWUXsWcYPwSw',\n",
       "   'review_count': 1289,\n",
       "   'categories': [{'alias': 'pizza', 'title': 'Pizza'}],\n",
       "   'rating': 4.5,\n",
       "   'coordinates': {'latitude': 40.729546, 'longitude': -73.958568},\n",
       "   'transactions': ['delivery'],\n",
       "   'price': '$$',\n",
       "   'location': {'address1': '60 Greenpoint Ave',\n",
       "    'address2': '',\n",
       "    'address3': '',\n",
       "    'city': 'Brooklyn',\n",
       "    'zip_code': '11222',\n",
       "    'country': 'US',\n",
       "    'state': 'NY',\n",
       "    'display_address': ['60 Greenpoint Ave', 'Brooklyn, NY 11222']},\n",
       "   'phone': '+13479873747',\n",
       "   'display_phone': '(347) 987-3747',\n",
       "   'distance': 4027.308250680752},\n",
       "  {'id': 'TWH4MjLtN1fKlF-7n6YXHg',\n",
       "   'alias': 'lil-frankies-new-york',\n",
       "   'name': \"Lil Frankie's\",\n",
       "   'image_url': 'https://s3-media4.fl.yelpcdn.com/bphoto/b0nsA2W4oswnmH3fr-BOig/o.jpg',\n",
       "   'is_closed': False,\n",
       "   'url': 'https://www.yelp.com/biz/lil-frankies-new-york?adjust_creative=W47v_VGVUcyWUXsWcYPwSw&utm_campaign=yelp_api_v3&utm_medium=api_v3_business_search&utm_source=W47v_VGVUcyWUXsWcYPwSw',\n",
       "   'review_count': 1238,\n",
       "   'categories': [{'alias': 'pizza', 'title': 'Pizza'},\n",
       "    {'alias': 'italian', 'title': 'Italian'}],\n",
       "   'rating': 4.0,\n",
       "   'coordinates': {'latitude': 40.723625, 'longitude': -73.988555},\n",
       "   'transactions': ['pickup', 'delivery'],\n",
       "   'price': '$$',\n",
       "   'location': {'address1': '19 1st Ave',\n",
       "    'address2': '',\n",
       "    'address3': '',\n",
       "    'city': 'New York',\n",
       "    'zip_code': '10003',\n",
       "    'country': 'US',\n",
       "    'state': 'NY',\n",
       "    'display_address': ['19 1st Ave', 'New York, NY 10003']},\n",
       "   'phone': '+12124204900',\n",
       "   'display_phone': '(212) 420-4900',\n",
       "   'distance': 2079.0350425992006},\n",
       "  {'id': 'GRXvvB1OKMuW4XDWEaVAlg',\n",
       "   'alias': 'joes-pizza-brooklyn-8',\n",
       "   'name': \"Joe's Pizza\",\n",
       "   'image_url': 'https://s3-media2.fl.yelpcdn.com/bphoto/7RQebflR3JvTcMWRbVC86g/o.jpg',\n",
       "   'is_closed': False,\n",
       "   'url': 'https://www.yelp.com/biz/joes-pizza-brooklyn-8?adjust_creative=W47v_VGVUcyWUXsWcYPwSw&utm_campaign=yelp_api_v3&utm_medium=api_v3_business_search&utm_source=W47v_VGVUcyWUXsWcYPwSw',\n",
       "   'review_count': 367,\n",
       "   'categories': [{'alias': 'pizza', 'title': 'Pizza'}],\n",
       "   'rating': 4.0,\n",
       "   'coordinates': {'latitude': 40.71691, 'longitude': -73.958987},\n",
       "   'transactions': ['pickup', 'delivery'],\n",
       "   'price': '$',\n",
       "   'location': {'address1': '216 Bedford Ave',\n",
       "    'address2': '',\n",
       "    'address3': None,\n",
       "    'city': 'Brooklyn',\n",
       "    'zip_code': '11249',\n",
       "    'country': 'US',\n",
       "    'state': 'NY',\n",
       "    'display_address': ['216 Bedford Ave', 'Brooklyn, NY 11249']},\n",
       "   'phone': '+17183882216',\n",
       "   'display_phone': '(718) 388-2216',\n",
       "   'distance': 3239.2966565668607},\n",
       "  {'id': 'oOr6Ta5gZyDl6PyZ1cq7pg',\n",
       "   'alias': 'east-village-pizza-new-york',\n",
       "   'name': 'East Village Pizza',\n",
       "   'image_url': 'https://s3-media2.fl.yelpcdn.com/bphoto/JiV117pdeH3hG6J91KfPeA/o.jpg',\n",
       "   'is_closed': False,\n",
       "   'url': 'https://www.yelp.com/biz/east-village-pizza-new-york?adjust_creative=W47v_VGVUcyWUXsWcYPwSw&utm_campaign=yelp_api_v3&utm_medium=api_v3_business_search&utm_source=W47v_VGVUcyWUXsWcYPwSw',\n",
       "   'review_count': 385,\n",
       "   'categories': [{'alias': 'pizza', 'title': 'Pizza'},\n",
       "    {'alias': 'italian', 'title': 'Italian'}],\n",
       "   'rating': 4.0,\n",
       "   'coordinates': {'latitude': 40.728199, 'longitude': -73.985182},\n",
       "   'transactions': ['pickup', 'delivery'],\n",
       "   'price': '$',\n",
       "   'location': {'address1': '145 1st Ave',\n",
       "    'address2': '',\n",
       "    'address3': '',\n",
       "    'city': 'New York',\n",
       "    'zip_code': '10003',\n",
       "    'country': 'US',\n",
       "    'state': 'NY',\n",
       "    'display_address': ['145 1st Ave', 'New York, NY 10003']},\n",
       "   'phone': '+12125294545',\n",
       "   'display_phone': '(212) 529-4545',\n",
       "   'distance': 2643.8575043591286}],\n",
       " 'total': 240,\n",
       " 'region': {'center': {'longitude': -73.99429321289062,\n",
       "   'latitude': 40.70544486444615}}}"
      ]
     },
     "execution_count": 68,
     "metadata": {},
     "output_type": "execute_result"
    }
   ],
   "source": [
    "response_json"
   ]
  },
  {
   "cell_type": "markdown",
   "metadata": {},
   "source": [
    "This code may take up to a few minutes to run.\n",
    "\n",
    "If you get an error trying to get the response body in JSON format, try adding `time.sleep(1)` right after the `requests.get` line, so your code will sleep for 1 second between each API call."
   ]
  },
  {
   "cell_type": "markdown",
   "metadata": {},
   "source": [
    "## 3. Perform Exploratory Analysis\n",
    "\n",
    "Take the businesses from the previous question and do an initial exploratory analysis. We have provided some plots for you to interpret:"
   ]
  },
  {
   "cell_type": "code",
   "execution_count": 69,
   "metadata": {},
   "outputs": [
    {
     "data": {
      "image/png": "[encoded data removed]",
      "text/plain": [
       "<Figure size 1152x360 with 3 Axes>"
      ]
     },
     "metadata": {
      "needs_background": "light"
     },
     "output_type": "display_data"
    }
   ],
   "source": [
    "# Run this cell without changes\n",
    "from collections import Counter\n",
    "import matplotlib.pyplot as plt\n",
    "%matplotlib inline\n",
    "\n",
    "fig, (ax1, ax2, ax3) = plt.subplots(ncols=3, figsize=(16, 5))\n",
    "\n",
    "# Plot distribution of number of reviews\n",
    "all_review_counts = [x[\"review_count\"] for x in full_dataset]\n",
    "ax1.hist(all_review_counts)\n",
    "ax1.set_title(\"Review Count Distribution\")\n",
    "ax1.set_xlabel(\"Number of Reviews\")\n",
    "ax1.set_ylabel(\"Number of Businesses\")\n",
    "\n",
    "# Plot rating distribution\n",
    "all_ratings = [x[\"rating\"] for x in full_dataset]\n",
    "rating_counter = Counter(all_ratings)\n",
    "rating_keys = sorted(rating_counter.keys())\n",
    "ax2.bar(rating_keys, [rating_counter[key] for key in rating_keys])\n",
    "ax2.set_title(\"Rating Distribution\")\n",
    "ax2.set_xlabel(\"Rating\")\n",
    "ax2.set_ylabel(\"Number of Businesses\")\n",
    "\n",
    "# Plot price distribution\n",
    "all_prices = [x[\"price\"].replace(\"$\", r\"\\$\") for x in full_dataset]\n",
    "price_counter = Counter(all_prices)\n",
    "price_keys = sorted(price_counter.keys())\n",
    "ax3.bar(price_keys, [price_counter[key] for key in price_keys])\n",
    "ax3.set_title(\"Price Distribution\")\n",
    "ax3.set_xlabel(\"Price Category\")\n",
    "ax3.set_ylabel(\"Number of Businesses\");"
   ]
  },
  {
   "cell_type": "markdown",
   "metadata": {},
   "source": [
    "Describe the distributions displayed above and interpret them in the context of your query. (Your answer may differ from the solution branch depending on your query.)"
   ]
  },
  {
   "cell_type": "code",
   "execution_count": null,
   "metadata": {},
   "outputs": [],
   "source": [
    "# Replace None with appropriate text\n",
    "\"\"\"\n",
    "The review count distribution is relatively even, some businesses have large amount of reviews\n",
    "\n",
    "The rating distribution centers and peaks around 4, meaning the typical rating is\n",
    "around 4 out of 5. There are no businesses with a rating below 3 in this dataset.\n",
    "\n",
    "The price distribution is relatively even \n",
    "\"\"\""
   ]
  },
  {
   "cell_type": "markdown",
   "metadata": {},
   "source": [
    "In the cell below, we also plot the rating distributions by price. In this setup, a price of one dollar sign is \"lower price\" and everything else is \"higher price\"."
   ]
  },
  {
   "cell_type": "code",
   "execution_count": 70,
   "metadata": {},
   "outputs": [
    {
     "data": {
      "image/png": "[encoded data removed]",
      "text/plain": [
       "<Figure size 432x288 with 1 Axes>"
      ]
     },
     "metadata": {
      "needs_background": "light"
     },
     "output_type": "display_data"
    }
   ],
   "source": [
    "# Run this cell without changes\n",
    "\n",
    "higher_price = []\n",
    "lower_price = []\n",
    "for row in full_dataset:\n",
    "    if row[\"price\"] == \"$\":\n",
    "        lower_price.append(row[\"rating\"])\n",
    "    else:\n",
    "        higher_price.append(row[\"rating\"])\n",
    "        \n",
    "fig, ax = plt.subplots()\n",
    "\n",
    "ax.hist([higher_price, lower_price], label=[\"higher price\", \"lower price\"], density=True)\n",
    "\n",
    "ax.legend();"
   ]
  },
  {
   "cell_type": "markdown",
   "metadata": {},
   "source": [
    "Is a higher price associated with a higher rating? (No need for any additional math/statistics, just interpret what you see in the plot.)"
   ]
  },
  {
   "cell_type": "code",
   "execution_count": null,
   "metadata": {},
   "outputs": [],
   "source": [
    "# Replace None with appropriate text\n",
    "\"\"\"\n",
    "Yes, higher price seems to be associated with a higher rating.\n",
    "\n",
    "The peaks of the blue bars (higher price) are lower for ratings\n",
    "of 4 or higher\n",
    "\"\"\""
   ]
  },
  {
   "cell_type": "markdown",
   "metadata": {},
   "source": [
    "Finally, let's look at ratings vs. review counts:"
   ]
  },
  {
   "cell_type": "code",
   "execution_count": 71,
   "metadata": {},
   "outputs": [
    {
     "data": {
      "image/png": "[encoded data removed]",
      "text/plain": [
       "<Figure size 1152x360 with 1 Axes>"
      ]
     },
     "metadata": {
      "needs_background": "light"
     },
     "output_type": "display_data"
    }
   ],
   "source": [
    "# Run this cell without changes\n",
    "fig, ax = plt.subplots(figsize=(16,5))\n",
    "\n",
    "ax.scatter(all_review_counts, all_ratings, alpha=0.2)\n",
    "ax.set_xlabel(\"Number of Reviews\")\n",
    "ax.set_ylabel(\"Rating\")\n",
    "# \"zoom in\" to a subset of review counts\n",
    "ax.set_xlim(left=0, right=1000);"
   ]
  },
  {
   "cell_type": "markdown",
   "metadata": {},
   "source": [
    "Is a higher number of reviews associated with a higher rating?"
   ]
  },
  {
   "cell_type": "code",
   "execution_count": 72,
   "metadata": {},
   "outputs": [
    {
     "data": {
      "text/plain": [
       "'\\nhigher number of reviews is relatively associated with a higher rating, but the trend is not very obvious\\n'"
      ]
     },
     "execution_count": 72,
     "metadata": {},
     "output_type": "execute_result"
    }
   ],
   "source": [
    "# Replace None with appropriate text\n",
    "\"\"\"\n",
    "higher number of reviews is relatively associated with a higher rating, but the trend is not very obvious\n",
    "\"\"\""
   ]
  },
  {
   "cell_type": "markdown",
   "metadata": {},
   "source": [
    "## 4. Create a Folium Map\n",
    "\n",
    "Make a map using Folium of the businesses you retrieved. Be sure to also add popups to the markers giving some basic information such as name, rating and price.\n",
    "\n",
    "You can center the map around the latitude and longitude of the first item in `full_dataset`."
   ]
  },
  {
   "cell_type": "code",
   "execution_count": 73,
   "metadata": {},
   "outputs": [
    {
     "data": {
      "text/html": [
       "<div style=\"width:100%;\"><div style=\"position:relative;width:100%;height:0;padding-bottom:60%;\"><span style=\"color:#565656\">Make this Notebook Trusted to load map: File -> Trust Notebook</span><iframe src=\"about:blank\" style=\"position:absolute;width:100%;height:100%;left:0;top:0;border:none !important;\" data-html=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 onload=\"this.contentDocument.open();this.contentDocument.write(atob(this.getAttribute('data-html')));this.contentDocument.close();\" allowfullscreen webkitallowfullscreen mozallowfullscreen></iframe></div></div>"
      ],
      "text/plain": [
       "<folium.folium.Map at 0x1af28518f70>"
      ]
     },
     "execution_count": 73,
     "metadata": {},
     "output_type": "execute_result"
    }
   ],
   "source": [
    "# Replace None with appropriate code\n",
    "\n",
    "# Import the library\n",
    "import folium\n",
    "\n",
    "# Set up center latitude and longitude\n",
    "center_lat = full_dataset[0][\"latitude\"]\n",
    "center_long = full_dataset[0][\"longitude\"]\n",
    "\n",
    "# Initialize map with center lat and long\n",
    "yelp_map = folium.Map([center_lat, center_long], zoom_start=12)\n",
    "\n",
    "# Adjust this limit to see more or fewer businesses\n",
    "limit=100\n",
    "\n",
    "for business in full_dataset[:limit]:\n",
    "    # Extract information about business\n",
    "    lat = business[\"latitude\"]\n",
    "    long = business[\"longitude\"]\n",
    "    name = business[\"name\"]\n",
    "    rating = business[\"rating\"]\n",
    "    price = business[\"price\"]\n",
    "    details = \"{}\\nPrice: {} Rating:{}\".format(name,price,rating)\n",
    "    \n",
    "    # Create popup with relevant details\n",
    "    popup =  folium.Popup(details)\n",
    "    \n",
    "    # Create marker with relevant lat/long and popup\n",
    "    marker = folium.Marker([lat, long], popup=popup)\n",
    "    \n",
    "    marker.add_to(yelp_map)\n",
    "    \n",
    "yelp_map"
   ]
  },
  {
   "cell_type": "markdown",
   "metadata": {},
   "source": [
    "## Summary\n",
    "\n",
    "Nice work! In this lab, you've made multiple API calls to Yelp in order to paginate through a results set, performing some basic exploratory analysis and then creating a nice interactive map to display the results using Folium! Well done!"
   ]
  }
 ],
 "metadata": {
  "kernelspec": {
   "display_name": "Python 3",
   "language": "python",
   "name": "python3"
  },
  "language_info": {
   "codemirror_mode": {
    "name": "ipython",
    "version": 3
   },
   "file_extension": ".py",
   "mimetype": "text/x-python",
   "name": "python",
   "nbconvert_exporter": "python",
   "pygments_lexer": "ipython3",
   "version": "3.8.5"
  },
  "toc": {
   "base_numbering": 1,
   "nav_menu": {},
   "number_sections": true,
   "sideBar": true,
   "skip_h1_title": false,
   "title_cell": "Table of Contents",
   "title_sidebar": "Contents",
   "toc_cell": false,
   "toc_position": {},
   "toc_section_display": true,
   "toc_window_display": false
  }
 },
 "nbformat": 4,
 "nbformat_minor": 2
}
